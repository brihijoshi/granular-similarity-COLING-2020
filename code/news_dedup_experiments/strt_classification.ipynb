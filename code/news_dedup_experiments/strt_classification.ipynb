{
 "cells": [
  {
   "cell_type": "markdown",
   "metadata": {},
   "source": [
    "Copyright (c) Snap Inc. 2020. This sample code is made available by Snap Inc. for informational purposes only. It is provided as-is, without warranty of any kind, express or implied, including any warranties of merchantability, fitness for a particular purpose, or non-infringement. In no event will Snap Inc. be liable for any damages arising from the sample code or your use thereof."
   ]
  },
  {
   "cell_type": "code",
   "execution_count": null,
   "metadata": {},
   "outputs": [],
   "source": [
    "import numpy as np\n",
    "import pandas as pd\n",
    "import matplotlib.pyplot as plt\n",
    "import pickle\n",
    "import hashlib\n",
    "import spacy\n",
    "import os\n",
    "import re\n",
    "import json\n",
    "from collections import OrderedDict\n",
    "from operator import itemgetter\n",
    "from spacy.lang.en.stop_words import STOP_WORDS\n",
    "import string\n",
    "import gensim\n",
    "from sklearn.metrics.pairwise import cosine_similarity\n",
    "from xgboost import XGBClassifier\n",
    "import sys\n",
    "sys.path.append('../')\n",
    "\n",
    "from tf_idf_vectorizer import *\n",
    "from utils.snap_preprocessed_df_handle import *\n",
    "from utils.EstimatorSelectionHelper import EstimatorSelectionHelper\n",
    "from utils.classifier_setup import *\n",
    "\n",
    "# BERT Classification\n",
    "from sentence_transformers import SentenceTransformer\n",
    "from scipy.stats import pearsonr, spearmanr\n",
    "import pickle"
   ]
  },
  {
   "cell_type": "code",
   "execution_count": null,
   "metadata": {},
   "outputs": [],
   "source": [
    "TRAIN_PATH = '../../data/dataframes/df_unique_with_similarity.pkl'\n",
    "TEST_PATH = '../../data/dataframes/df_test_unique_with_similarity.pkl'"
   ]
  },
  {
   "cell_type": "code",
   "execution_count": null,
   "metadata": {},
   "outputs": [],
   "source": [
    "def prepare_dataframe_tf_idf(PATH):\n",
    "    df_with_keywords = get_dataframe(PATH)\n",
    "    return df_with_keywords"
   ]
  },
  {
   "cell_type": "code",
   "execution_count": null,
   "metadata": {},
   "outputs": [],
   "source": [
    "train_df = prepare_dataframe_tf_idf(TRAIN_PATH)"
   ]
  },
  {
   "cell_type": "code",
   "execution_count": null,
   "metadata": {},
   "outputs": [],
   "source": [
    "test_df = prepare_dataframe_tf_idf(TEST_PATH)"
   ]
  },
  {
   "cell_type": "code",
   "execution_count": null,
   "metadata": {},
   "outputs": [],
   "source": [
    "train_df.drop(columns=['k1','k2','textrank_similarity'], inplace=True)\n",
    "test_df.drop(columns=['k1','k2','textrank_similarity'], inplace=True)"
   ]
  },
  {
   "cell_type": "code",
   "execution_count": null,
   "metadata": {},
   "outputs": [],
   "source": [
    "train_df.columns"
   ]
  },
  {
   "cell_type": "markdown",
   "metadata": {},
   "source": [
    "# Setup"
   ]
  },
  {
   "cell_type": "code",
   "execution_count": null,
   "metadata": {
    "scrolled": true
   },
   "outputs": [],
   "source": [
    "# model = SentenceTransformer('roberta-base-nli-stsb-mean-tokens')"
   ]
  },
  {
   "cell_type": "code",
   "execution_count": null,
   "metadata": {},
   "outputs": [],
   "source": [
    "articles_train = pd.concat([train_df[['id1','Input.article1']].\\\n",
    "                            rename(columns={'id1':'id','Input.article1':'article'}), \\\n",
    "                            train_df[['id2','Input.article2']].\\\n",
    "                            rename(columns={'id2':'id','Input.article2':'article'})]\n",
    "                          ).drop_duplicates().reset_index(drop=True)\n",
    "non_dup_articles_train = articles_train['id'].drop_duplicates().index\n",
    "articles_train = articles_train.loc[non_dup_articles_train].reset_index(drop=True)\n",
    "\n",
    "articles_test = pd.concat([test_df[['id1','Input.article1']].\\\n",
    "                            rename(columns={'id1':'id','Input.article1':'article'}), \\\n",
    "                            test_df[['id2','Input.article2']].\\\n",
    "                            rename(columns={'id2':'id','Input.article2':'article'})]\n",
    "                          ).drop_duplicates().reset_index(drop=True)\n",
    "\n",
    "non_dup_articles_test = articles_test['id'].drop_duplicates().index\n",
    "articles_test = articles_test.loc[non_dup_articles_test].reset_index(drop=True)"
   ]
  },
  {
   "cell_type": "code",
   "execution_count": null,
   "metadata": {},
   "outputs": [],
   "source": [
    "# sentence_embeddings_train = model.encode(articles_train['article'])"
   ]
  },
  {
   "cell_type": "code",
   "execution_count": null,
   "metadata": {},
   "outputs": [],
   "source": [
    "# sentence_embeddings_test = model.encode(articles_test['article'])"
   ]
  },
  {
   "cell_type": "code",
   "execution_count": null,
   "metadata": {},
   "outputs": [],
   "source": [
    "# with open('../../data/dataframes/roberta_sentence_embeddings_train.pkl', 'wb') as f:\n",
    "#     pickle.dump(sentence_embeddings_train, f)"
   ]
  },
  {
   "cell_type": "code",
   "execution_count": null,
   "metadata": {},
   "outputs": [],
   "source": [
    "# with open('../../data/dataframes/roberta_sentence_embeddings_test.pkl', 'wb') as f:\n",
    "#     pickle.dump(sentence_embeddings_test, f)"
   ]
  },
  {
   "cell_type": "code",
   "execution_count": null,
   "metadata": {},
   "outputs": [],
   "source": [
    "with open('../../data/dataframes/roberta_sentence_embeddings_train.pkl', 'rb') as f:\n",
    "    sentence_embeddings_train = pickle.load(f)"
   ]
  },
  {
   "cell_type": "code",
   "execution_count": null,
   "metadata": {},
   "outputs": [],
   "source": [
    "with open('../../data/dataframes/roberta_sentence_embeddings_test.pkl', 'rb') as f:\n",
    "    sentence_embeddings_test = pickle.load(f)"
   ]
  },
  {
   "cell_type": "code",
   "execution_count": null,
   "metadata": {},
   "outputs": [],
   "source": [
    "articles_train['roberta_embedding'] = sentence_embeddings_train\n",
    "articles_test['roberta_embedding'] = sentence_embeddings_test"
   ]
  },
  {
   "cell_type": "code",
   "execution_count": null,
   "metadata": {},
   "outputs": [],
   "source": [
    "train_df['roberta_embedding1'] = train_df['id1'].\\\n",
    "                                apply(lambda x: articles_train[articles_train['id']==x]\\\n",
    "                                      ['roberta_embedding'].values[0])\n",
    "train_df['roberta_embedding2'] = train_df['id2'].\\\n",
    "                                apply(lambda x: articles_train[articles_train['id']==x]\\\n",
    "                                      ['roberta_embedding'].values[0])\n",
    "train_df['roberta_similarity'] = train_df[['roberta_embedding1','roberta_embedding2']]\\\n",
    "                                        .apply(lambda row: \\\n",
    "                                               cosine_similarity(row['roberta_embedding1'].reshape(1, -1),\\\n",
    "                                                                 row['roberta_embedding2'].reshape(1, -1))[0][0], axis=1)"
   ]
  },
  {
   "cell_type": "code",
   "execution_count": null,
   "metadata": {},
   "outputs": [],
   "source": [
    "test_df['roberta_embedding1'] = test_df['id1'].\\\n",
    "                                apply(lambda x: articles_test[articles_test['id']==x]\\\n",
    "                                      ['roberta_embedding'].values[0])\n",
    "test_df['roberta_embedding2'] = test_df['id2'].\\\n",
    "                                apply(lambda x: articles_test[articles_test['id']==x]\\\n",
    "                                      ['roberta_embedding'].values[0])\n",
    "test_df['roberta_similarity'] = test_df[['roberta_embedding1','roberta_embedding2']]\\\n",
    "                                        .apply(lambda row: \\\n",
    "                                               cosine_similarity(row['roberta_embedding1'].reshape(1, -1),\\\n",
    "                                                                 row['roberta_embedding2'].reshape(1, -1))[0][0], axis=1)"
   ]
  },
  {
   "cell_type": "markdown",
   "metadata": {},
   "source": [
    "# Event Similarity"
   ]
  },
  {
   "cell_type": "code",
   "execution_count": null,
   "metadata": {},
   "outputs": [],
   "source": [
    "models = {\n",
    "           \"XGBoost\" : XGBClassifier()\n",
    "}\n",
    "\n",
    "params = {'XGBoost':  {\"colsample_bytree\": [0.3,0.5,0.8,1],\"gamma\":[0,10,50,100],\n",
    "                        \"max_depth\": [2,4,6], # default 3\\\n",
    "                        \"n_estimators\": [50,100], # default 100\n",
    "                        \"subsample\": [0.3,0.5,0.8,1]}\n",
    "}\n",
    "\n",
    "def custom_scorer(y_true, y_pred):\n",
    "    return f1_score(y_true, y_pred, average='macro')"
   ]
  },
  {
   "cell_type": "code",
   "execution_count": null,
   "metadata": {},
   "outputs": [],
   "source": [
    "helper_event = EstimatorSelectionHelper(models, params)"
   ]
  },
  {
   "cell_type": "code",
   "execution_count": null,
   "metadata": {
    "scrolled": true
   },
   "outputs": [],
   "source": [
    "helper_event.fit(train_df['roberta_similarity'].values.reshape(-1, 1),\n",
    "            train_df['majority_same_event'],\n",
    "            cv = 5,\n",
    "            scoring=make_scorer(custom_scorer, greater_is_better=True), n_jobs=16, refit=True)"
   ]
  },
  {
   "cell_type": "code",
   "execution_count": null,
   "metadata": {
    "scrolled": true
   },
   "outputs": [],
   "source": [
    "helper_event.summary(test_df['roberta_similarity'], test_df['majority_same_event'])"
   ]
  },
  {
   "cell_type": "markdown",
   "metadata": {},
   "source": [
    "# Topic Similarity"
   ]
  },
  {
   "cell_type": "code",
   "execution_count": null,
   "metadata": {},
   "outputs": [],
   "source": [
    "models = {\n",
    "           \"XGBoost\" : XGBClassifier()\n",
    "}\n",
    "\n",
    "params = {'XGBoost':  {\"colsample_bytree\": [0.3,0.5,0.8,1],\"gamma\":[0,10,50,100],\n",
    "                        \"max_depth\": [2,4,6], # default 3\\\n",
    "                        \"n_estimators\": [50,100], # default 100\n",
    "                        \"subsample\": [0.3,0.5,0.8,1]}\n",
    "}\n",
    "\n",
    "def custom_scorer(y_true, y_pred):\n",
    "    return f1_score(y_true, y_pred, average='macro')"
   ]
  },
  {
   "cell_type": "code",
   "execution_count": null,
   "metadata": {},
   "outputs": [],
   "source": [
    "train_df['majority_topic_1'] = train_df[train_df.columns[13:20]].idxmax(axis=1).str.split(\".\").str.get(-1)\n",
    "train_df['majority_topic_2'] = train_df[train_df.columns[20:27]].idxmax(axis=1).str.split(\".\").str.get(-1)\n",
    "train_df['majority_same_topic']=train_df['majority_topic_1'] == train_df['majority_topic_2']"
   ]
  },
  {
   "cell_type": "code",
   "execution_count": null,
   "metadata": {},
   "outputs": [],
   "source": [
    "test_df['majority_topic_1'] = test_df[test_df.columns[13:20]].idxmax(axis=1).str.split(\".\").str.get(-1)\n",
    "test_df['majority_topic_2'] = test_df[test_df.columns[20:27]].idxmax(axis=1).str.split(\".\").str.get(-1)\n",
    "test_df['majority_same_topic']=test_df['majority_topic_1'] == test_df['majority_topic_2']"
   ]
  },
  {
   "cell_type": "code",
   "execution_count": null,
   "metadata": {},
   "outputs": [],
   "source": [
    "helper_topic = EstimatorSelectionHelper(models, params)"
   ]
  },
  {
   "cell_type": "code",
   "execution_count": null,
   "metadata": {
    "scrolled": false
   },
   "outputs": [],
   "source": [
    "helper_topic.fit(train_df['roberta_similarity'].values.reshape(-1, 1),\n",
    "            train_df['majority_same_topic'],\n",
    "            cv = 5,\n",
    "            scoring=make_scorer(custom_scorer, greater_is_better=True), n_jobs=16, refit=True)"
   ]
  },
  {
   "cell_type": "code",
   "execution_count": null,
   "metadata": {
    "scrolled": false
   },
   "outputs": [],
   "source": [
    "helper_topic.summary(test_df['roberta_similarity'], test_df['majority_same_topic'])"
   ]
  },
  {
   "cell_type": "code",
   "execution_count": null,
   "metadata": {},
   "outputs": [],
   "source": []
  }
 ],
 "metadata": {
  "kernelspec": {
   "display_name": "Python 3",
   "language": "python",
   "name": "python3"
  },
  "language_info": {
   "codemirror_mode": {
    "name": "ipython",
    "version": 3
   },
   "file_extension": ".py",
   "mimetype": "text/x-python",
   "name": "python",
   "nbconvert_exporter": "python",
   "pygments_lexer": "ipython3",
   "version": "3.8.5"
  }
 },
 "nbformat": 4,
 "nbformat_minor": 2
}

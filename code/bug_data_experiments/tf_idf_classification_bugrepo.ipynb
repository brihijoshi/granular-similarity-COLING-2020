{
 "cells": [
  {
   "cell_type": "markdown",
   "metadata": {},
   "source": [
    "Copyright (c) Snap Inc. 2020. This sample code is made available by Snap Inc. for informational purposes only. It is provided as-is, without warranty of any kind, express or implied, including any warranties of merchantability, fitness for a particular purpose, or non-infringement. In no event will Snap Inc. be liable for any damages arising from the sample code or your use thereof."
   ]
  },
  {
   "cell_type": "code",
   "execution_count": 1,
   "metadata": {},
   "outputs": [],
   "source": [
    "import numpy as np\n",
    "import pandas as pd\n",
    "import matplotlib.pyplot as plt\n",
    "import pickle\n",
    "import hashlib\n",
    "import spacy\n",
    "import os\n",
    "import re\n",
    "import json\n",
    "from collections import OrderedDict\n",
    "from operator import itemgetter\n",
    "from spacy.lang.en.stop_words import STOP_WORDS\n",
    "import string\n",
    "import gensim\n",
    "from sklearn.metrics.pairwise import cosine_similarity\n",
    "from xgboost import XGBClassifier\n",
    "import sys\n",
    "sys.path.append('../')\n",
    "\n",
    "from tf_idf_vectorizer import *\n",
    "from utils.newsgroup_df_handle import *\n",
    "from utils.EstimatorSelectionHelper import EstimatorSelectionHelper\n",
    "from utils.classifier_setup import *"
   ]
  },
  {
   "cell_type": "code",
   "execution_count": 2,
   "metadata": {},
   "outputs": [],
   "source": [
    "models = {\n",
    "           \"XGBoost\" : XGBClassifier()\n",
    "}\n",
    "\n",
    "params = {'XGBoost':  {\"colsample_bytree\": [0.3,0.5,0.8,1],\"gamma\":[0,10,50,100],\n",
    "                        \"max_depth\": [2,4,6], # default 3\\\n",
    "                        \"n_estimators\": [50,100], # default 100\n",
    "                        \"subsample\": [0.3,0.5,0.8,1]}\n",
    "}\n",
    "\n",
    "def custom_scorer(y_true, y_pred):\n",
    "    return f1_score(y_true, y_pred, average='macro')"
   ]
  },
  {
   "cell_type": "code",
   "execution_count": null,
   "metadata": {},
   "outputs": [],
   "source": [
    "def prepare_dataframe_tf_idf(subset):\n",
    "    df_with_keywords = pd.read_pickle('../../data/dataframes/df_'+subset+'_bugrepo_eclipse.pkl')\n",
    "    articles = get_unique_combined_with_id(df_with_keywords, 'title', 'title')\n",
    "    od_output, od_keys = get_tf_idf(articles, 'title', preprocessor=preprocessor, stop_words=stop_list, ngram_range = (1,1))\n",
    "    print('Got TF-IDF vecs')\n",
    "    df_with_keywords['tfidf_v1'] = df_with_keywords['id1'].apply(lambda x: od_output[list(od_keys).index(str(x))])\n",
    "    print('Got v1')\n",
    "    df_with_keywords['tfidf_v2'] = df_with_keywords['id2'].apply(lambda x: od_output[list(od_keys).index(str(x))])\n",
    "    print(df_with_keywords.head())\n",
    "    df_with_keywords['tfidf_similarity'] = df_with_keywords[['tfidf_v1','tfidf_v2']]\\\n",
    "                                        .apply(lambda row: cosine_similarity(row['tfidf_v1'],row['tfidf_v2'])[0][0], axis=1)\n",
    "    \n",
    "    return df_with_keywords"
   ]
  },
  {
   "cell_type": "code",
   "execution_count": null,
   "metadata": {},
   "outputs": [],
   "source": [
    "# train_df = prepare_dataframe_tf_idf('train')\n",
    "# test_df = prepare_dataframe_tf_idf('test')"
   ]
  },
  {
   "cell_type": "code",
   "execution_count": null,
   "metadata": {},
   "outputs": [],
   "source": [
    "# train_df.to_pickle('../../data/dataframes/df_train_bugrepo_with_tf_idf_similarity.pkl')\n",
    "# test_df.to_pickle('../../data/dataframes/df_test_bugrepo_with_tf_idf_similarity.pkl')"
   ]
  },
  {
   "cell_type": "code",
   "execution_count": 3,
   "metadata": {},
   "outputs": [],
   "source": [
    "train_df = pd.read_pickle('../../data/dataframes/df_train_bugrepo_with_tf_idf_similarity.pkl')\n",
    "test_df = pd.read_pickle('../../data/dataframes/df_test_bugrepo_with_tf_idf_similarity.pkl')"
   ]
  },
  {
   "cell_type": "code",
   "execution_count": 4,
   "metadata": {},
   "outputs": [
    {
     "data": {
      "text/plain": [
       "True     40967\n",
       "False    31175\n",
       "Name: dup_issue, dtype: int64"
      ]
     },
     "execution_count": 4,
     "metadata": {},
     "output_type": "execute_result"
    }
   ],
   "source": [
    "train_df['dup_issue'].value_counts()"
   ]
  },
  {
   "cell_type": "markdown",
   "metadata": {},
   "source": [
    "# Event Similarity\n"
   ]
  },
  {
   "cell_type": "code",
   "execution_count": 5,
   "metadata": {},
   "outputs": [],
   "source": [
    "train_df = train_df.sample(frac=1).reset_index(drop=True)\n",
    "test_df = test_df.sample(frac=1).reset_index(drop=True)"
   ]
  },
  {
   "cell_type": "code",
   "execution_count": 6,
   "metadata": {},
   "outputs": [],
   "source": [
    "helper_event = EstimatorSelectionHelper(models, params)"
   ]
  },
  {
   "cell_type": "code",
   "execution_count": 7,
   "metadata": {},
   "outputs": [
    {
     "name": "stdout",
     "output_type": "stream",
     "text": [
      "Running GridSearchCV for XGBoost.\n",
      "Fitting 5 folds for each of 384 candidates, totalling 1920 fits\n"
     ]
    },
    {
     "name": "stderr",
     "output_type": "stream",
     "text": [
      "[Parallel(n_jobs=16)]: Using backend LokyBackend with 16 concurrent workers.\n",
      "[Parallel(n_jobs=16)]: Done  18 tasks      | elapsed:    2.9s\n",
      "[Parallel(n_jobs=16)]: Done 168 tasks      | elapsed:   15.9s\n",
      "[Parallel(n_jobs=16)]: Done 418 tasks      | elapsed:   35.7s\n",
      "[Parallel(n_jobs=16)]: Done 768 tasks      | elapsed:  1.1min\n",
      "[Parallel(n_jobs=16)]: Done 1218 tasks      | elapsed:  1.7min\n",
      "[Parallel(n_jobs=16)]: Done 1768 tasks      | elapsed:  2.5min\n",
      "[Parallel(n_jobs=16)]: Done 1920 out of 1920 | elapsed:  2.7min finished\n"
     ]
    }
   ],
   "source": [
    "helper_event.fit(train_df['tfidf_similarity'].values.reshape(-1, 1),\n",
    "            train_df['dup_issue'],\n",
    "            cv = 5,\n",
    "            scoring=make_scorer(custom_scorer, greater_is_better=True), n_jobs=16, refit=True)"
   ]
  },
  {
   "cell_type": "code",
   "execution_count": 8,
   "metadata": {
    "scrolled": false
   },
   "outputs": [
    {
     "name": "stdout",
     "output_type": "stream",
     "text": [
      "--------------------XGBoost--------------------\n",
      "Accuracy -  0.7574209245742093\n",
      "Classfication Report - \n",
      "              precision    recall  f1-score   support\n",
      "\n",
      "       False       0.73      0.84      0.78      4266\n",
      "        True       0.80      0.66      0.72      3954\n",
      "\n",
      "    accuracy                           0.76      8220\n",
      "   macro avg       0.76      0.75      0.75      8220\n",
      "weighted avg       0.76      0.76      0.76      8220\n",
      "\n",
      "Confusion Matrix - \n",
      "[[0.84364744 0.15635256]\n",
      " [0.33560951 0.66439049]]\n"
     ]
    },
    {
     "data": {
      "image/png": "[encoded data removed]",
      "text/plain": [
       "<Figure size 432x288 with 2 Axes>"
      ]
     },
     "metadata": {
      "needs_background": "light"
     },
     "output_type": "display_data"
    },
    {
     "name": "stdout",
     "output_type": "stream",
     "text": [
      "----------------------------------------\n"
     ]
    }
   ],
   "source": [
    "helper_event.summary(test_df['tfidf_similarity'], test_df['dup_issue'])"
   ]
  },
  {
   "cell_type": "code",
   "execution_count": null,
   "metadata": {},
   "outputs": [],
   "source": [
    "# helper_event.save_models('../../data/models/', 'bugrepo_tfidf_event')"
   ]
  },
  {
   "cell_type": "markdown",
   "metadata": {},
   "source": [
    "# Topical Similarity"
   ]
  },
  {
   "cell_type": "code",
   "execution_count": 10,
   "metadata": {},
   "outputs": [],
   "source": [
    "train_df = train_df.sample(frac=1).reset_index(drop=True)\n",
    "test_df = test_df.sample(frac=1).reset_index(drop=True)"
   ]
  },
  {
   "cell_type": "code",
   "execution_count": 11,
   "metadata": {},
   "outputs": [],
   "source": [
    "helper_topic = EstimatorSelectionHelper(models, params)"
   ]
  },
  {
   "cell_type": "code",
   "execution_count": null,
   "metadata": {},
   "outputs": [
    {
     "name": "stdout",
     "output_type": "stream",
     "text": [
      "Running GridSearchCV for XGBoost.\n",
      "Fitting 5 folds for each of 384 candidates, totalling 1920 fits\n"
     ]
    },
    {
     "name": "stderr",
     "output_type": "stream",
     "text": [
      "[Parallel(n_jobs=16)]: Using backend LokyBackend with 16 concurrent workers.\n",
      "[Parallel(n_jobs=16)]: Done  18 tasks      | elapsed:    2.6s\n",
      "[Parallel(n_jobs=16)]: Done 168 tasks      | elapsed:   15.8s\n",
      "[Parallel(n_jobs=16)]: Done 418 tasks      | elapsed:   35.9s\n",
      "[Parallel(n_jobs=16)]: Done 768 tasks      | elapsed:  1.1min\n",
      "[Parallel(n_jobs=16)]: Done 1218 tasks      | elapsed:  1.8min\n"
     ]
    }
   ],
   "source": [
    "helper_topic.fit(train_df['tfidf_similarity'].values.reshape(-1, 1),\n",
    "            train_df['dup_group'],\n",
    "            cv = 5,\n",
    "            scoring=make_scorer(custom_scorer, greater_is_better=True), n_jobs=16, refit=True)"
   ]
  },
  {
   "cell_type": "code",
   "execution_count": null,
   "metadata": {
    "scrolled": false
   },
   "outputs": [],
   "source": [
    "helper_topic.summary(test_df['tfidf_similarity'], test_df['dup_group'])"
   ]
  }
 ],
 "metadata": {
  "kernelspec": {
   "display_name": "Python 3",
   "language": "python",
   "name": "python3"
  },
  "language_info": {
   "codemirror_mode": {
    "name": "ipython",
    "version": 3
   },
   "file_extension": ".py",
   "mimetype": "text/x-python",
   "name": "python",
   "nbconvert_exporter": "python",
   "pygments_lexer": "ipython3",
   "version": "3.8.5"
  }
 },
 "nbformat": 4,
 "nbformat_minor": 2
}
